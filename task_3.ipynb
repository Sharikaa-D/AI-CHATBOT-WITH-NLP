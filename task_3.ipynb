{
  "nbformat": 4,
  "nbformat_minor": 0,
  "metadata": {
    "colab": {
      "provenance": []
    },
    "kernelspec": {
      "name": "python3",
      "display_name": "Python 3"
    },
    "language_info": {
      "name": "python"
    },
    "widgets": {
      "application/vnd.jupyter.widget-state+json": {
        "82b7a67de8f04f658898dff7bcae8539": {
          "model_module": "@jupyter-widgets/controls",
          "model_name": "TextModel",
          "model_module_version": "1.5.0",
          "state": {
            "_dom_classes": [],
            "_model_module": "@jupyter-widgets/controls",
            "_model_module_version": "1.5.0",
            "_model_name": "TextModel",
            "_view_count": null,
            "_view_module": "@jupyter-widgets/controls",
            "_view_module_version": "1.5.0",
            "_view_name": "TextView",
            "continuous_update": true,
            "description": "You:",
            "description_tooltip": null,
            "disabled": false,
            "layout": "IPY_MODEL_403918182f844d099bf81e2bdba3ce0c",
            "placeholder": "Type something and press Enter...",
            "style": "IPY_MODEL_24cb190c8f104905809ad35b71c97f3d",
            "value": ""
          }
        },
        "403918182f844d099bf81e2bdba3ce0c": {
          "model_module": "@jupyter-widgets/base",
          "model_name": "LayoutModel",
          "model_module_version": "1.2.0",
          "state": {
            "_model_module": "@jupyter-widgets/base",
            "_model_module_version": "1.2.0",
            "_model_name": "LayoutModel",
            "_view_count": null,
            "_view_module": "@jupyter-widgets/base",
            "_view_module_version": "1.2.0",
            "_view_name": "LayoutView",
            "align_content": null,
            "align_items": null,
            "align_self": null,
            "border": null,
            "bottom": null,
            "display": null,
            "flex": null,
            "flex_flow": null,
            "grid_area": null,
            "grid_auto_columns": null,
            "grid_auto_flow": null,
            "grid_auto_rows": null,
            "grid_column": null,
            "grid_gap": null,
            "grid_row": null,
            "grid_template_areas": null,
            "grid_template_columns": null,
            "grid_template_rows": null,
            "height": null,
            "justify_content": null,
            "justify_items": null,
            "left": null,
            "margin": null,
            "max_height": null,
            "max_width": null,
            "min_height": null,
            "min_width": null,
            "object_fit": null,
            "object_position": null,
            "order": null,
            "overflow": null,
            "overflow_x": null,
            "overflow_y": null,
            "padding": null,
            "right": null,
            "top": null,
            "visibility": null,
            "width": null
          }
        },
        "24cb190c8f104905809ad35b71c97f3d": {
          "model_module": "@jupyter-widgets/controls",
          "model_name": "DescriptionStyleModel",
          "model_module_version": "1.5.0",
          "state": {
            "_model_module": "@jupyter-widgets/controls",
            "_model_module_version": "1.5.0",
            "_model_name": "DescriptionStyleModel",
            "_view_count": null,
            "_view_module": "@jupyter-widgets/base",
            "_view_module_version": "1.2.0",
            "_view_name": "StyleView",
            "description_width": ""
          }
        },
        "944998f908dc40f3aad17129052d6b67": {
          "model_module": "@jupyter-widgets/output",
          "model_name": "OutputModel",
          "model_module_version": "1.0.0",
          "state": {
            "_dom_classes": [],
            "_model_module": "@jupyter-widgets/output",
            "_model_module_version": "1.0.0",
            "_model_name": "OutputModel",
            "_view_count": null,
            "_view_module": "@jupyter-widgets/output",
            "_view_module_version": "1.0.0",
            "_view_name": "OutputView",
            "layout": "IPY_MODEL_3fcc6f7f73dd412db919f29dc90c12e0",
            "msg_id": "",
            "outputs": [
              {
                "output_type": "stream",
                "name": "stdout",
                "text": [
                  "Chatbot: Hello! I'm your NLP chatbot. Ask me something!\n",
                  "----------------------------------------\n"
                ]
              },
              {
                "output_type": "stream",
                "name": "stdout",
                "text": [
                  "You: Hello\n",
                  "Chatbot: Hi there! How can I help you?\n",
                  "----------------------------------------\n"
                ]
              },
              {
                "output_type": "stream",
                "name": "stdout",
                "text": [
                  "You: how are you\n",
                  "Chatbot: I'm doing great! Thanks for asking.\n",
                  "----------------------------------------\n"
                ]
              },
              {
                "output_type": "stream",
                "name": "stdout",
                "text": [
                  "You: what can you do\n",
                  "Chatbot: I'm doing great! Thanks for asking.\n",
                  "----------------------------------------\n"
                ]
              },
              {
                "output_type": "stream",
                "name": "stdout",
                "text": [
                  "You: bye\n",
                  "Chatbot: Goodbye! Have a nice day.\n",
                  "----------------------------------------\n"
                ]
              }
            ]
          }
        },
        "3fcc6f7f73dd412db919f29dc90c12e0": {
          "model_module": "@jupyter-widgets/base",
          "model_name": "LayoutModel",
          "model_module_version": "1.2.0",
          "state": {
            "_model_module": "@jupyter-widgets/base",
            "_model_module_version": "1.2.0",
            "_model_name": "LayoutModel",
            "_view_count": null,
            "_view_module": "@jupyter-widgets/base",
            "_view_module_version": "1.2.0",
            "_view_name": "LayoutView",
            "align_content": null,
            "align_items": null,
            "align_self": null,
            "border": null,
            "bottom": null,
            "display": null,
            "flex": null,
            "flex_flow": null,
            "grid_area": null,
            "grid_auto_columns": null,
            "grid_auto_flow": null,
            "grid_auto_rows": null,
            "grid_column": null,
            "grid_gap": null,
            "grid_row": null,
            "grid_template_areas": null,
            "grid_template_columns": null,
            "grid_template_rows": null,
            "height": null,
            "justify_content": null,
            "justify_items": null,
            "left": null,
            "margin": null,
            "max_height": null,
            "max_width": null,
            "min_height": null,
            "min_width": null,
            "object_fit": null,
            "object_position": null,
            "order": null,
            "overflow": null,
            "overflow_x": null,
            "overflow_y": null,
            "padding": null,
            "right": null,
            "top": null,
            "visibility": null,
            "width": null
          }
        }
      }
    }
  },
  "cells": [
    {
      "cell_type": "code",
      "execution_count": null,
      "metadata": {
        "id": "-_W6EmmcuxJ1"
      },
      "outputs": [],
      "source": []
    },
    {
      "cell_type": "markdown",
      "source": [
        "# Task 3 – AI Chatbot using NLP (NLTK)\n",
        "**Name:** Sharikaa D  \n",
        "**Technology Used:** Python, NLTK  \n",
        "**Description:** A basic chatbot that uses Natural Language Processing to understand user input and respond accordingly.\n"
      ],
      "metadata": {
        "id": "JKv2qcKfu5cd"
      }
    },
    {
      "cell_type": "code",
      "source": [
        "import nltk\n",
        "\n",
        "# Correct downloads needed\n",
        "nltk.download('punkt')\n",
        "nltk.download('wordnet')\n",
        "nltk.download('stopwords')\n"
      ],
      "metadata": {
        "colab": {
          "base_uri": "https://localhost:8080/"
        },
        "id": "73MV3oY1wC7P",
        "outputId": "cfabb647-c860-4d85-d3eb-0f5c71cbc7e2"
      },
      "execution_count": 7,
      "outputs": [
        {
          "output_type": "stream",
          "name": "stderr",
          "text": [
            "[nltk_data] Downloading package punkt to /root/nltk_data...\n",
            "[nltk_data]   Package punkt is already up-to-date!\n",
            "[nltk_data] Downloading package wordnet to /root/nltk_data...\n",
            "[nltk_data]   Package wordnet is already up-to-date!\n",
            "[nltk_data] Downloading package stopwords to /root/nltk_data...\n",
            "[nltk_data]   Package stopwords is already up-to-date!\n"
          ]
        },
        {
          "output_type": "execute_result",
          "data": {
            "text/plain": [
              "True"
            ]
          },
          "metadata": {},
          "execution_count": 7
        }
      ]
    },
    {
      "cell_type": "code",
      "source": [
        "from nltk.stem import WordNetLemmatizer\n",
        "from nltk.corpus import stopwords\n",
        "import string\n",
        "\n",
        "lemmatizer = WordNetLemmatizer()\n",
        "stop_words = set(stopwords.words(\"english\"))\n",
        "\n",
        "def preprocess(sentence):\n",
        "    tokens = nltk.word_tokenize(sentence.lower())\n",
        "    words = [\n",
        "        lemmatizer.lemmatize(word)\n",
        "        for word in tokens\n",
        "        if word not in stop_words and word not in string.punctuation\n",
        "    ]\n",
        "    return \" \".join(words)\n"
      ],
      "metadata": {
        "id": "CiXkgwgqwHX-"
      },
      "execution_count": 8,
      "outputs": []
    },
    {
      "cell_type": "code",
      "source": [
        "knowledge_base = {\n",
        "    \"hello\": \"Hi there! How can I help you?\",\n",
        "    \"how are you\": \"I'm doing great! Thanks for asking.\",\n",
        "    \"what is your name\": \"I'm a chatbot created by Sharikaa using Python and NLTK.\",\n",
        "    \"what can you do\": \"I can answer basic questions and help you learn!\",\n",
        "    \"who created you\": \"I was created by Sharikaa using Python and Natural Language Processing.\",\n",
        "    \"bye\": \"Goodbye! Have a nice day.\",\n",
        "    \"thank you\": \"You're welcome!\",\n",
        "    \"help\": \"Try asking me: 'what is your name', 'how are you', or 'bye'\"\n",
        "}\n"
      ],
      "metadata": {
        "id": "DPg8H_MQwOL4"
      },
      "execution_count": 9,
      "outputs": []
    },
    {
      "cell_type": "code",
      "source": [
        "from difflib import get_close_matches\n",
        "\n",
        "def get_response(user_input):\n",
        "    user_input_clean = preprocess(user_input)\n",
        "    processed_questions = [preprocess(q) for q in knowledge_base.keys()]\n",
        "\n",
        "    match = get_close_matches(user_input_clean, processed_questions, n=1, cutoff=0.6)\n",
        "\n",
        "    if match:\n",
        "        matched_question = list(knowledge_base.keys())[processed_questions.index(match[0])]\n",
        "        return knowledge_base[matched_question]\n",
        "    else:\n",
        "        return \"I'm sorry, I don't understand that yet.\"\n"
      ],
      "metadata": {
        "id": "svxzlI9ywS1U"
      },
      "execution_count": 10,
      "outputs": []
    },
    {
      "cell_type": "code",
      "source": [
        "import ipywidgets as widgets\n",
        "from IPython.display import display, clear_output\n",
        "\n",
        "# Input/output widgets\n",
        "input_box = widgets.Text(\n",
        "    value='',\n",
        "    placeholder='Type something and press Enter...',\n",
        "    description='You:',\n",
        "    disabled=False\n",
        ")\n",
        "\n",
        "output = widgets.Output()\n",
        "\n",
        "with output:\n",
        "    print(\"Chatbot: Hello! I'm your NLP chatbot. Ask me something!\")\n",
        "    print(\"-\" * 40)\n",
        "\n",
        "def on_enter(change):\n",
        "    user_message = input_box.value\n",
        "    input_box.value = ''\n",
        "    with output:\n",
        "        print(\"You:\", user_message)\n",
        "        response = get_response(user_message)\n",
        "        print(\"Chatbot:\", response)\n",
        "        print(\"-\" * 40)\n",
        "\n",
        "input_box.on_submit(on_enter)\n",
        "\n",
        "display(input_box, output)\n"
      ],
      "metadata": {
        "colab": {
          "base_uri": "https://localhost:8080/",
          "height": 303,
          "referenced_widgets": [
            "82b7a67de8f04f658898dff7bcae8539",
            "403918182f844d099bf81e2bdba3ce0c",
            "24cb190c8f104905809ad35b71c97f3d",
            "944998f908dc40f3aad17129052d6b67",
            "3fcc6f7f73dd412db919f29dc90c12e0"
          ]
        },
        "id": "07dqcVPTwaEV",
        "outputId": "058517ba-75df-4b6e-b700-e1e0266c7651"
      },
      "execution_count": 11,
      "outputs": [
        {
          "output_type": "display_data",
          "data": {
            "text/plain": [
              "Text(value='', description='You:', placeholder='Type something and press Enter...')"
            ],
            "application/vnd.jupyter.widget-view+json": {
              "version_major": 2,
              "version_minor": 0,
              "model_id": "82b7a67de8f04f658898dff7bcae8539"
            }
          },
          "metadata": {}
        },
        {
          "output_type": "display_data",
          "data": {
            "text/plain": [
              "Output()"
            ],
            "application/vnd.jupyter.widget-view+json": {
              "version_major": 2,
              "version_minor": 0,
              "model_id": "944998f908dc40f3aad17129052d6b67"
            }
          },
          "metadata": {}
        }
      ]
    }
  ]
}